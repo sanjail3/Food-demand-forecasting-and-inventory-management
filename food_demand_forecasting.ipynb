{
 "cells": [
  {
   "cell_type": "code",
   "execution_count": 53,
   "metadata": {},
   "outputs": [
    {
     "name": "stdout",
     "output_type": "stream",
     "text": [
      "Requirement already satisfied: scikit-learn==1.1.2 in c:\\users\\sanjai\\anaconda3\\lib\\site-packages (1.1.2)\n",
      "Requirement already satisfied: numpy>=1.17.3 in c:\\users\\sanjai\\anaconda3\\lib\\site-packages (from scikit-learn==1.1.2) (1.21.5)\n",
      "Requirement already satisfied: threadpoolctl>=2.0.0 in c:\\users\\sanjai\\anaconda3\\lib\\site-packages (from scikit-learn==1.1.2) (2.2.0)\n",
      "Requirement already satisfied: scipy>=1.3.2 in c:\\users\\sanjai\\anaconda3\\lib\\site-packages (from scikit-learn==1.1.2) (1.7.3)\n",
      "Requirement already satisfied: joblib>=1.0.0 in c:\\users\\sanjai\\anaconda3\\lib\\site-packages (from scikit-learn==1.1.2) (1.1.0)\n"
     ]
    }
   ],
   "source": [
    "!pip install scikit-learn==1.1.2"
   ]
  },
  {
   "cell_type": "code",
   "execution_count": 1,
   "metadata": {
    "id": "TMqDunEXsbnH"
   },
   "outputs": [],
   "source": [
    "import numpy as np \n",
    "import pandas as pd\n",
    "import matplotlib.pyplot as plt\n",
    "import seaborn as sns"
   ]
  },
  {
   "cell_type": "code",
   "execution_count": 2,
   "metadata": {
    "id": "fn4FY-D7EQ-U"
   },
   "outputs": [],
   "source": [
    "dataset = pd.read_csv('train.csv')"
   ]
  },
  {
   "cell_type": "code",
   "execution_count": 3,
   "metadata": {
    "colab": {
     "base_uri": "https://localhost:8080/",
     "height": 206
    },
    "id": "oaaOjVCNEr_f",
    "outputId": "f0f3385c-3c54-4cc8-d540-e13ab69f39d3"
   },
   "outputs": [
    {
     "data": {
      "text/html": [
       "<div>\n",
       "<style scoped>\n",
       "    .dataframe tbody tr th:only-of-type {\n",
       "        vertical-align: middle;\n",
       "    }\n",
       "\n",
       "    .dataframe tbody tr th {\n",
       "        vertical-align: top;\n",
       "    }\n",
       "\n",
       "    .dataframe thead th {\n",
       "        text-align: right;\n",
       "    }\n",
       "</style>\n",
       "<table border=\"1\" class=\"dataframe\">\n",
       "  <thead>\n",
       "    <tr style=\"text-align: right;\">\n",
       "      <th></th>\n",
       "      <th>id</th>\n",
       "      <th>week</th>\n",
       "      <th>center_id</th>\n",
       "      <th>meal_id</th>\n",
       "      <th>checkout_price</th>\n",
       "      <th>base_price</th>\n",
       "      <th>emailer_for_promotion</th>\n",
       "      <th>homepage_featured</th>\n",
       "      <th>num_orders</th>\n",
       "    </tr>\n",
       "  </thead>\n",
       "  <tbody>\n",
       "    <tr>\n",
       "      <th>0</th>\n",
       "      <td>1379560</td>\n",
       "      <td>1</td>\n",
       "      <td>55</td>\n",
       "      <td>1885</td>\n",
       "      <td>136.83</td>\n",
       "      <td>152.29</td>\n",
       "      <td>0</td>\n",
       "      <td>0</td>\n",
       "      <td>177</td>\n",
       "    </tr>\n",
       "    <tr>\n",
       "      <th>1</th>\n",
       "      <td>1466964</td>\n",
       "      <td>1</td>\n",
       "      <td>55</td>\n",
       "      <td>1993</td>\n",
       "      <td>136.83</td>\n",
       "      <td>135.83</td>\n",
       "      <td>0</td>\n",
       "      <td>0</td>\n",
       "      <td>270</td>\n",
       "    </tr>\n",
       "    <tr>\n",
       "      <th>2</th>\n",
       "      <td>1346989</td>\n",
       "      <td>1</td>\n",
       "      <td>55</td>\n",
       "      <td>2539</td>\n",
       "      <td>134.86</td>\n",
       "      <td>135.86</td>\n",
       "      <td>0</td>\n",
       "      <td>0</td>\n",
       "      <td>189</td>\n",
       "    </tr>\n",
       "    <tr>\n",
       "      <th>3</th>\n",
       "      <td>1338232</td>\n",
       "      <td>1</td>\n",
       "      <td>55</td>\n",
       "      <td>2139</td>\n",
       "      <td>339.50</td>\n",
       "      <td>437.53</td>\n",
       "      <td>0</td>\n",
       "      <td>0</td>\n",
       "      <td>54</td>\n",
       "    </tr>\n",
       "    <tr>\n",
       "      <th>4</th>\n",
       "      <td>1448490</td>\n",
       "      <td>1</td>\n",
       "      <td>55</td>\n",
       "      <td>2631</td>\n",
       "      <td>243.50</td>\n",
       "      <td>242.50</td>\n",
       "      <td>0</td>\n",
       "      <td>0</td>\n",
       "      <td>40</td>\n",
       "    </tr>\n",
       "  </tbody>\n",
       "</table>\n",
       "</div>"
      ],
      "text/plain": [
       "        id  week  center_id  meal_id  checkout_price  base_price  \\\n",
       "0  1379560     1         55     1885          136.83      152.29   \n",
       "1  1466964     1         55     1993          136.83      135.83   \n",
       "2  1346989     1         55     2539          134.86      135.86   \n",
       "3  1338232     1         55     2139          339.50      437.53   \n",
       "4  1448490     1         55     2631          243.50      242.50   \n",
       "\n",
       "   emailer_for_promotion  homepage_featured  num_orders  \n",
       "0                      0                  0         177  \n",
       "1                      0                  0         270  \n",
       "2                      0                  0         189  \n",
       "3                      0                  0          54  \n",
       "4                      0                  0          40  "
      ]
     },
     "execution_count": 3,
     "metadata": {},
     "output_type": "execute_result"
    }
   ],
   "source": [
    "dataset.head()"
   ]
  },
  {
   "cell_type": "code",
   "execution_count": 4,
   "metadata": {
    "colab": {
     "base_uri": "https://localhost:8080/",
     "height": 364
    },
    "id": "Z1f7zjesEoCU",
    "outputId": "57ad73d8-3e14-42e5-d2a4-6fbc21d685f9"
   },
   "outputs": [
    {
     "data": {
      "text/html": [
       "<div>\n",
       "<style scoped>\n",
       "    .dataframe tbody tr th:only-of-type {\n",
       "        vertical-align: middle;\n",
       "    }\n",
       "\n",
       "    .dataframe tbody tr th {\n",
       "        vertical-align: top;\n",
       "    }\n",
       "\n",
       "    .dataframe thead th {\n",
       "        text-align: right;\n",
       "    }\n",
       "</style>\n",
       "<table border=\"1\" class=\"dataframe\">\n",
       "  <thead>\n",
       "    <tr style=\"text-align: right;\">\n",
       "      <th></th>\n",
       "      <th>id</th>\n",
       "      <th>week</th>\n",
       "      <th>center_id</th>\n",
       "      <th>meal_id</th>\n",
       "      <th>checkout_price</th>\n",
       "      <th>base_price</th>\n",
       "      <th>emailer_for_promotion</th>\n",
       "      <th>homepage_featured</th>\n",
       "      <th>num_orders</th>\n",
       "    </tr>\n",
       "  </thead>\n",
       "  <tbody>\n",
       "    <tr>\n",
       "      <th>count</th>\n",
       "      <td>4.565480e+05</td>\n",
       "      <td>456548.000000</td>\n",
       "      <td>456548.000000</td>\n",
       "      <td>456548.000000</td>\n",
       "      <td>456548.000000</td>\n",
       "      <td>456548.000000</td>\n",
       "      <td>456548.000000</td>\n",
       "      <td>456548.00000</td>\n",
       "      <td>456548.000000</td>\n",
       "    </tr>\n",
       "    <tr>\n",
       "      <th>mean</th>\n",
       "      <td>1.250096e+06</td>\n",
       "      <td>74.768771</td>\n",
       "      <td>82.105796</td>\n",
       "      <td>2024.337458</td>\n",
       "      <td>332.238933</td>\n",
       "      <td>354.156627</td>\n",
       "      <td>0.081152</td>\n",
       "      <td>0.10920</td>\n",
       "      <td>261.872760</td>\n",
       "    </tr>\n",
       "    <tr>\n",
       "      <th>std</th>\n",
       "      <td>1.443548e+05</td>\n",
       "      <td>41.524956</td>\n",
       "      <td>45.975046</td>\n",
       "      <td>547.420920</td>\n",
       "      <td>152.939723</td>\n",
       "      <td>160.715914</td>\n",
       "      <td>0.273069</td>\n",
       "      <td>0.31189</td>\n",
       "      <td>395.922798</td>\n",
       "    </tr>\n",
       "    <tr>\n",
       "      <th>min</th>\n",
       "      <td>1.000000e+06</td>\n",
       "      <td>1.000000</td>\n",
       "      <td>10.000000</td>\n",
       "      <td>1062.000000</td>\n",
       "      <td>2.970000</td>\n",
       "      <td>55.350000</td>\n",
       "      <td>0.000000</td>\n",
       "      <td>0.00000</td>\n",
       "      <td>13.000000</td>\n",
       "    </tr>\n",
       "    <tr>\n",
       "      <th>25%</th>\n",
       "      <td>1.124999e+06</td>\n",
       "      <td>39.000000</td>\n",
       "      <td>43.000000</td>\n",
       "      <td>1558.000000</td>\n",
       "      <td>228.950000</td>\n",
       "      <td>243.500000</td>\n",
       "      <td>0.000000</td>\n",
       "      <td>0.00000</td>\n",
       "      <td>54.000000</td>\n",
       "    </tr>\n",
       "    <tr>\n",
       "      <th>50%</th>\n",
       "      <td>1.250184e+06</td>\n",
       "      <td>76.000000</td>\n",
       "      <td>76.000000</td>\n",
       "      <td>1993.000000</td>\n",
       "      <td>296.820000</td>\n",
       "      <td>310.460000</td>\n",
       "      <td>0.000000</td>\n",
       "      <td>0.00000</td>\n",
       "      <td>136.000000</td>\n",
       "    </tr>\n",
       "    <tr>\n",
       "      <th>75%</th>\n",
       "      <td>1.375140e+06</td>\n",
       "      <td>111.000000</td>\n",
       "      <td>110.000000</td>\n",
       "      <td>2539.000000</td>\n",
       "      <td>445.230000</td>\n",
       "      <td>458.870000</td>\n",
       "      <td>0.000000</td>\n",
       "      <td>0.00000</td>\n",
       "      <td>324.000000</td>\n",
       "    </tr>\n",
       "    <tr>\n",
       "      <th>max</th>\n",
       "      <td>1.499999e+06</td>\n",
       "      <td>145.000000</td>\n",
       "      <td>186.000000</td>\n",
       "      <td>2956.000000</td>\n",
       "      <td>866.270000</td>\n",
       "      <td>866.270000</td>\n",
       "      <td>1.000000</td>\n",
       "      <td>1.00000</td>\n",
       "      <td>24299.000000</td>\n",
       "    </tr>\n",
       "  </tbody>\n",
       "</table>\n",
       "</div>"
      ],
      "text/plain": [
       "                 id           week      center_id        meal_id  \\\n",
       "count  4.565480e+05  456548.000000  456548.000000  456548.000000   \n",
       "mean   1.250096e+06      74.768771      82.105796    2024.337458   \n",
       "std    1.443548e+05      41.524956      45.975046     547.420920   \n",
       "min    1.000000e+06       1.000000      10.000000    1062.000000   \n",
       "25%    1.124999e+06      39.000000      43.000000    1558.000000   \n",
       "50%    1.250184e+06      76.000000      76.000000    1993.000000   \n",
       "75%    1.375140e+06     111.000000     110.000000    2539.000000   \n",
       "max    1.499999e+06     145.000000     186.000000    2956.000000   \n",
       "\n",
       "       checkout_price     base_price  emailer_for_promotion  \\\n",
       "count   456548.000000  456548.000000          456548.000000   \n",
       "mean       332.238933     354.156627               0.081152   \n",
       "std        152.939723     160.715914               0.273069   \n",
       "min          2.970000      55.350000               0.000000   \n",
       "25%        228.950000     243.500000               0.000000   \n",
       "50%        296.820000     310.460000               0.000000   \n",
       "75%        445.230000     458.870000               0.000000   \n",
       "max        866.270000     866.270000               1.000000   \n",
       "\n",
       "       homepage_featured     num_orders  \n",
       "count       456548.00000  456548.000000  \n",
       "mean             0.10920     261.872760  \n",
       "std              0.31189     395.922798  \n",
       "min              0.00000      13.000000  \n",
       "25%              0.00000      54.000000  \n",
       "50%              0.00000     136.000000  \n",
       "75%              0.00000     324.000000  \n",
       "max              1.00000   24299.000000  "
      ]
     },
     "execution_count": 4,
     "metadata": {},
     "output_type": "execute_result"
    }
   ],
   "source": [
    "dataset.describe()"
   ]
  },
  {
   "cell_type": "code",
   "execution_count": 5,
   "metadata": {
    "colab": {
     "base_uri": "https://localhost:8080/"
    },
    "id": "KiFRlZkEFORh",
    "outputId": "70e82a1c-3b9e-4503-cfd8-730dc640ae62"
   },
   "outputs": [
    {
     "data": {
      "text/plain": [
       "(456548, 9)"
      ]
     },
     "execution_count": 5,
     "metadata": {},
     "output_type": "execute_result"
    }
   ],
   "source": [
    "dataset.shape"
   ]
  },
  {
   "cell_type": "code",
   "execution_count": 6,
   "metadata": {
    "colab": {
     "base_uri": "https://localhost:8080/"
    },
    "id": "T3DAeby-FTR2",
    "outputId": "db9203cb-b094-4b65-a08d-8f9a322989c0"
   },
   "outputs": [
    {
     "data": {
      "text/plain": [
       "id                       0\n",
       "week                     0\n",
       "center_id                0\n",
       "meal_id                  0\n",
       "checkout_price           0\n",
       "base_price               0\n",
       "emailer_for_promotion    0\n",
       "homepage_featured        0\n",
       "num_orders               0\n",
       "dtype: int64"
      ]
     },
     "execution_count": 6,
     "metadata": {},
     "output_type": "execute_result"
    }
   ],
   "source": [
    "dataset.isnull().sum()"
   ]
  },
  {
   "cell_type": "code",
   "execution_count": 7,
   "metadata": {
    "id": "dJdIYTosFXJJ"
   },
   "outputs": [],
   "source": [
    "fulfilment=pd.read_csv('fulfilment_center_info.csv')"
   ]
  },
  {
   "cell_type": "code",
   "execution_count": 8,
   "metadata": {
    "colab": {
     "base_uri": "https://localhost:8080/",
     "height": 206
    },
    "id": "ao6EvE9uFdoU",
    "outputId": "6b6b4054-0f5c-48e3-87dd-023cdd835c08"
   },
   "outputs": [
    {
     "data": {
      "text/html": [
       "<div>\n",
       "<style scoped>\n",
       "    .dataframe tbody tr th:only-of-type {\n",
       "        vertical-align: middle;\n",
       "    }\n",
       "\n",
       "    .dataframe tbody tr th {\n",
       "        vertical-align: top;\n",
       "    }\n",
       "\n",
       "    .dataframe thead th {\n",
       "        text-align: right;\n",
       "    }\n",
       "</style>\n",
       "<table border=\"1\" class=\"dataframe\">\n",
       "  <thead>\n",
       "    <tr style=\"text-align: right;\">\n",
       "      <th></th>\n",
       "      <th>center_id</th>\n",
       "      <th>city_code</th>\n",
       "      <th>region_code</th>\n",
       "      <th>center_type</th>\n",
       "      <th>op_area</th>\n",
       "    </tr>\n",
       "  </thead>\n",
       "  <tbody>\n",
       "    <tr>\n",
       "      <th>0</th>\n",
       "      <td>11</td>\n",
       "      <td>679</td>\n",
       "      <td>56</td>\n",
       "      <td>TYPE_A</td>\n",
       "      <td>3.7</td>\n",
       "    </tr>\n",
       "    <tr>\n",
       "      <th>1</th>\n",
       "      <td>13</td>\n",
       "      <td>590</td>\n",
       "      <td>56</td>\n",
       "      <td>TYPE_B</td>\n",
       "      <td>6.7</td>\n",
       "    </tr>\n",
       "    <tr>\n",
       "      <th>2</th>\n",
       "      <td>124</td>\n",
       "      <td>590</td>\n",
       "      <td>56</td>\n",
       "      <td>TYPE_C</td>\n",
       "      <td>4.0</td>\n",
       "    </tr>\n",
       "    <tr>\n",
       "      <th>3</th>\n",
       "      <td>66</td>\n",
       "      <td>648</td>\n",
       "      <td>34</td>\n",
       "      <td>TYPE_A</td>\n",
       "      <td>4.1</td>\n",
       "    </tr>\n",
       "    <tr>\n",
       "      <th>4</th>\n",
       "      <td>94</td>\n",
       "      <td>632</td>\n",
       "      <td>34</td>\n",
       "      <td>TYPE_C</td>\n",
       "      <td>3.6</td>\n",
       "    </tr>\n",
       "  </tbody>\n",
       "</table>\n",
       "</div>"
      ],
      "text/plain": [
       "   center_id  city_code  region_code center_type  op_area\n",
       "0         11        679           56      TYPE_A      3.7\n",
       "1         13        590           56      TYPE_B      6.7\n",
       "2        124        590           56      TYPE_C      4.0\n",
       "3         66        648           34      TYPE_A      4.1\n",
       "4         94        632           34      TYPE_C      3.6"
      ]
     },
     "execution_count": 8,
     "metadata": {},
     "output_type": "execute_result"
    }
   ],
   "source": [
    "fulfilment.head()"
   ]
  },
  {
   "cell_type": "code",
   "execution_count": 9,
   "metadata": {
    "colab": {
     "base_uri": "https://localhost:8080/"
    },
    "id": "voKzxbihFjTP",
    "outputId": "3978c467-9b09-483d-be2b-bbf634dd9bd6"
   },
   "outputs": [
    {
     "data": {
      "text/plain": [
       "(77, 5)"
      ]
     },
     "execution_count": 9,
     "metadata": {},
     "output_type": "execute_result"
    }
   ],
   "source": [
    "fulfilment.shape"
   ]
  },
  {
   "cell_type": "code",
   "execution_count": 10,
   "metadata": {
    "colab": {
     "base_uri": "https://localhost:8080/"
    },
    "id": "VR7gzC_tFm4r",
    "outputId": "48a11077-40f4-47c4-9505-e5bf8f76dbee"
   },
   "outputs": [
    {
     "data": {
      "text/plain": [
       "center_id      0\n",
       "city_code      0\n",
       "region_code    0\n",
       "center_type    0\n",
       "op_area        0\n",
       "dtype: int64"
      ]
     },
     "execution_count": 10,
     "metadata": {},
     "output_type": "execute_result"
    }
   ],
   "source": [
    "fulfilment.isnull().sum()"
   ]
  },
  {
   "cell_type": "code",
   "execution_count": 11,
   "metadata": {
    "id": "7y7siTZlFrwa"
   },
   "outputs": [],
   "source": [
    "meal=pd.read_csv('meal_info.csv')"
   ]
  },
  {
   "cell_type": "code",
   "execution_count": 12,
   "metadata": {
    "colab": {
     "base_uri": "https://localhost:8080/",
     "height": 206
    },
    "id": "V9NWOKJaHESd",
    "outputId": "160713dd-e229-44ad-c38c-97ef46391908"
   },
   "outputs": [
    {
     "data": {
      "text/html": [
       "<div>\n",
       "<style scoped>\n",
       "    .dataframe tbody tr th:only-of-type {\n",
       "        vertical-align: middle;\n",
       "    }\n",
       "\n",
       "    .dataframe tbody tr th {\n",
       "        vertical-align: top;\n",
       "    }\n",
       "\n",
       "    .dataframe thead th {\n",
       "        text-align: right;\n",
       "    }\n",
       "</style>\n",
       "<table border=\"1\" class=\"dataframe\">\n",
       "  <thead>\n",
       "    <tr style=\"text-align: right;\">\n",
       "      <th></th>\n",
       "      <th>meal_id</th>\n",
       "      <th>category</th>\n",
       "      <th>cuisine</th>\n",
       "    </tr>\n",
       "  </thead>\n",
       "  <tbody>\n",
       "    <tr>\n",
       "      <th>0</th>\n",
       "      <td>1885</td>\n",
       "      <td>Beverages</td>\n",
       "      <td>Thai</td>\n",
       "    </tr>\n",
       "    <tr>\n",
       "      <th>1</th>\n",
       "      <td>1993</td>\n",
       "      <td>Beverages</td>\n",
       "      <td>Thai</td>\n",
       "    </tr>\n",
       "    <tr>\n",
       "      <th>2</th>\n",
       "      <td>2539</td>\n",
       "      <td>Beverages</td>\n",
       "      <td>Thai</td>\n",
       "    </tr>\n",
       "    <tr>\n",
       "      <th>3</th>\n",
       "      <td>1248</td>\n",
       "      <td>Beverages</td>\n",
       "      <td>Indian</td>\n",
       "    </tr>\n",
       "    <tr>\n",
       "      <th>4</th>\n",
       "      <td>2631</td>\n",
       "      <td>Beverages</td>\n",
       "      <td>Indian</td>\n",
       "    </tr>\n",
       "  </tbody>\n",
       "</table>\n",
       "</div>"
      ],
      "text/plain": [
       "   meal_id   category cuisine\n",
       "0     1885  Beverages    Thai\n",
       "1     1993  Beverages    Thai\n",
       "2     2539  Beverages    Thai\n",
       "3     1248  Beverages  Indian\n",
       "4     2631  Beverages  Indian"
      ]
     },
     "execution_count": 12,
     "metadata": {},
     "output_type": "execute_result"
    }
   ],
   "source": [
    "meal.head()"
   ]
  },
  {
   "cell_type": "code",
   "execution_count": 13,
   "metadata": {
    "colab": {
     "base_uri": "https://localhost:8080/"
    },
    "id": "4O3iS49dV1fJ",
    "outputId": "8efd26bc-8631-41d6-cfa4-9fa9f6d372eb"
   },
   "outputs": [
    {
     "data": {
      "text/plain": [
       "meal_id     0\n",
       "category    0\n",
       "cuisine     0\n",
       "dtype: int64"
      ]
     },
     "execution_count": 13,
     "metadata": {},
     "output_type": "execute_result"
    }
   ],
   "source": [
    "meal.isnull().sum()"
   ]
  },
  {
   "cell_type": "code",
   "execution_count": 14,
   "metadata": {
    "id": "tozPpkjOf1tI"
   },
   "outputs": [],
   "source": [
    "#merging the above 3 datasets\n",
    "final_dataset=dataset.merge(fulfilment,on='center_id',how='left').merge(meal,on='meal_id',how='left')"
   ]
  },
  {
   "cell_type": "code",
   "execution_count": 15,
   "metadata": {
    "colab": {
     "base_uri": "https://localhost:8080/",
     "height": 488
    },
    "id": "aS6HZjkIf5Ea",
    "outputId": "ccbeed49-6c5a-45ce-d962-1fdb294b2c43"
   },
   "outputs": [
    {
     "data": {
      "text/html": [
       "<div>\n",
       "<style scoped>\n",
       "    .dataframe tbody tr th:only-of-type {\n",
       "        vertical-align: middle;\n",
       "    }\n",
       "\n",
       "    .dataframe tbody tr th {\n",
       "        vertical-align: top;\n",
       "    }\n",
       "\n",
       "    .dataframe thead th {\n",
       "        text-align: right;\n",
       "    }\n",
       "</style>\n",
       "<table border=\"1\" class=\"dataframe\">\n",
       "  <thead>\n",
       "    <tr style=\"text-align: right;\">\n",
       "      <th></th>\n",
       "      <th>id</th>\n",
       "      <th>week</th>\n",
       "      <th>center_id</th>\n",
       "      <th>meal_id</th>\n",
       "      <th>checkout_price</th>\n",
       "      <th>base_price</th>\n",
       "      <th>emailer_for_promotion</th>\n",
       "      <th>homepage_featured</th>\n",
       "      <th>num_orders</th>\n",
       "      <th>city_code</th>\n",
       "      <th>region_code</th>\n",
       "      <th>center_type</th>\n",
       "      <th>op_area</th>\n",
       "      <th>category</th>\n",
       "      <th>cuisine</th>\n",
       "    </tr>\n",
       "  </thead>\n",
       "  <tbody>\n",
       "    <tr>\n",
       "      <th>0</th>\n",
       "      <td>1379560</td>\n",
       "      <td>1</td>\n",
       "      <td>55</td>\n",
       "      <td>1885</td>\n",
       "      <td>136.83</td>\n",
       "      <td>152.29</td>\n",
       "      <td>0</td>\n",
       "      <td>0</td>\n",
       "      <td>177</td>\n",
       "      <td>647</td>\n",
       "      <td>56</td>\n",
       "      <td>TYPE_C</td>\n",
       "      <td>2.0</td>\n",
       "      <td>Beverages</td>\n",
       "      <td>Thai</td>\n",
       "    </tr>\n",
       "    <tr>\n",
       "      <th>1</th>\n",
       "      <td>1466964</td>\n",
       "      <td>1</td>\n",
       "      <td>55</td>\n",
       "      <td>1993</td>\n",
       "      <td>136.83</td>\n",
       "      <td>135.83</td>\n",
       "      <td>0</td>\n",
       "      <td>0</td>\n",
       "      <td>270</td>\n",
       "      <td>647</td>\n",
       "      <td>56</td>\n",
       "      <td>TYPE_C</td>\n",
       "      <td>2.0</td>\n",
       "      <td>Beverages</td>\n",
       "      <td>Thai</td>\n",
       "    </tr>\n",
       "    <tr>\n",
       "      <th>2</th>\n",
       "      <td>1346989</td>\n",
       "      <td>1</td>\n",
       "      <td>55</td>\n",
       "      <td>2539</td>\n",
       "      <td>134.86</td>\n",
       "      <td>135.86</td>\n",
       "      <td>0</td>\n",
       "      <td>0</td>\n",
       "      <td>189</td>\n",
       "      <td>647</td>\n",
       "      <td>56</td>\n",
       "      <td>TYPE_C</td>\n",
       "      <td>2.0</td>\n",
       "      <td>Beverages</td>\n",
       "      <td>Thai</td>\n",
       "    </tr>\n",
       "    <tr>\n",
       "      <th>3</th>\n",
       "      <td>1338232</td>\n",
       "      <td>1</td>\n",
       "      <td>55</td>\n",
       "      <td>2139</td>\n",
       "      <td>339.50</td>\n",
       "      <td>437.53</td>\n",
       "      <td>0</td>\n",
       "      <td>0</td>\n",
       "      <td>54</td>\n",
       "      <td>647</td>\n",
       "      <td>56</td>\n",
       "      <td>TYPE_C</td>\n",
       "      <td>2.0</td>\n",
       "      <td>Beverages</td>\n",
       "      <td>Indian</td>\n",
       "    </tr>\n",
       "    <tr>\n",
       "      <th>4</th>\n",
       "      <td>1448490</td>\n",
       "      <td>1</td>\n",
       "      <td>55</td>\n",
       "      <td>2631</td>\n",
       "      <td>243.50</td>\n",
       "      <td>242.50</td>\n",
       "      <td>0</td>\n",
       "      <td>0</td>\n",
       "      <td>40</td>\n",
       "      <td>647</td>\n",
       "      <td>56</td>\n",
       "      <td>TYPE_C</td>\n",
       "      <td>2.0</td>\n",
       "      <td>Beverages</td>\n",
       "      <td>Indian</td>\n",
       "    </tr>\n",
       "    <tr>\n",
       "      <th>...</th>\n",
       "      <td>...</td>\n",
       "      <td>...</td>\n",
       "      <td>...</td>\n",
       "      <td>...</td>\n",
       "      <td>...</td>\n",
       "      <td>...</td>\n",
       "      <td>...</td>\n",
       "      <td>...</td>\n",
       "      <td>...</td>\n",
       "      <td>...</td>\n",
       "      <td>...</td>\n",
       "      <td>...</td>\n",
       "      <td>...</td>\n",
       "      <td>...</td>\n",
       "      <td>...</td>\n",
       "    </tr>\n",
       "    <tr>\n",
       "      <th>456543</th>\n",
       "      <td>1271326</td>\n",
       "      <td>145</td>\n",
       "      <td>61</td>\n",
       "      <td>1543</td>\n",
       "      <td>484.09</td>\n",
       "      <td>484.09</td>\n",
       "      <td>0</td>\n",
       "      <td>0</td>\n",
       "      <td>68</td>\n",
       "      <td>473</td>\n",
       "      <td>77</td>\n",
       "      <td>TYPE_A</td>\n",
       "      <td>4.5</td>\n",
       "      <td>Desert</td>\n",
       "      <td>Indian</td>\n",
       "    </tr>\n",
       "    <tr>\n",
       "      <th>456544</th>\n",
       "      <td>1062036</td>\n",
       "      <td>145</td>\n",
       "      <td>61</td>\n",
       "      <td>2304</td>\n",
       "      <td>482.09</td>\n",
       "      <td>482.09</td>\n",
       "      <td>0</td>\n",
       "      <td>0</td>\n",
       "      <td>42</td>\n",
       "      <td>473</td>\n",
       "      <td>77</td>\n",
       "      <td>TYPE_A</td>\n",
       "      <td>4.5</td>\n",
       "      <td>Desert</td>\n",
       "      <td>Indian</td>\n",
       "    </tr>\n",
       "    <tr>\n",
       "      <th>456545</th>\n",
       "      <td>1110849</td>\n",
       "      <td>145</td>\n",
       "      <td>61</td>\n",
       "      <td>2664</td>\n",
       "      <td>237.68</td>\n",
       "      <td>321.07</td>\n",
       "      <td>0</td>\n",
       "      <td>0</td>\n",
       "      <td>501</td>\n",
       "      <td>473</td>\n",
       "      <td>77</td>\n",
       "      <td>TYPE_A</td>\n",
       "      <td>4.5</td>\n",
       "      <td>Salad</td>\n",
       "      <td>Italian</td>\n",
       "    </tr>\n",
       "    <tr>\n",
       "      <th>456546</th>\n",
       "      <td>1147725</td>\n",
       "      <td>145</td>\n",
       "      <td>61</td>\n",
       "      <td>2569</td>\n",
       "      <td>243.50</td>\n",
       "      <td>313.34</td>\n",
       "      <td>0</td>\n",
       "      <td>0</td>\n",
       "      <td>729</td>\n",
       "      <td>473</td>\n",
       "      <td>77</td>\n",
       "      <td>TYPE_A</td>\n",
       "      <td>4.5</td>\n",
       "      <td>Salad</td>\n",
       "      <td>Italian</td>\n",
       "    </tr>\n",
       "    <tr>\n",
       "      <th>456547</th>\n",
       "      <td>1361984</td>\n",
       "      <td>145</td>\n",
       "      <td>61</td>\n",
       "      <td>2490</td>\n",
       "      <td>292.03</td>\n",
       "      <td>290.03</td>\n",
       "      <td>0</td>\n",
       "      <td>0</td>\n",
       "      <td>162</td>\n",
       "      <td>473</td>\n",
       "      <td>77</td>\n",
       "      <td>TYPE_A</td>\n",
       "      <td>4.5</td>\n",
       "      <td>Salad</td>\n",
       "      <td>Italian</td>\n",
       "    </tr>\n",
       "  </tbody>\n",
       "</table>\n",
       "<p>456548 rows × 15 columns</p>\n",
       "</div>"
      ],
      "text/plain": [
       "             id  week  center_id  meal_id  checkout_price  base_price  \\\n",
       "0       1379560     1         55     1885          136.83      152.29   \n",
       "1       1466964     1         55     1993          136.83      135.83   \n",
       "2       1346989     1         55     2539          134.86      135.86   \n",
       "3       1338232     1         55     2139          339.50      437.53   \n",
       "4       1448490     1         55     2631          243.50      242.50   \n",
       "...         ...   ...        ...      ...             ...         ...   \n",
       "456543  1271326   145         61     1543          484.09      484.09   \n",
       "456544  1062036   145         61     2304          482.09      482.09   \n",
       "456545  1110849   145         61     2664          237.68      321.07   \n",
       "456546  1147725   145         61     2569          243.50      313.34   \n",
       "456547  1361984   145         61     2490          292.03      290.03   \n",
       "\n",
       "        emailer_for_promotion  homepage_featured  num_orders  city_code  \\\n",
       "0                           0                  0         177        647   \n",
       "1                           0                  0         270        647   \n",
       "2                           0                  0         189        647   \n",
       "3                           0                  0          54        647   \n",
       "4                           0                  0          40        647   \n",
       "...                       ...                ...         ...        ...   \n",
       "456543                      0                  0          68        473   \n",
       "456544                      0                  0          42        473   \n",
       "456545                      0                  0         501        473   \n",
       "456546                      0                  0         729        473   \n",
       "456547                      0                  0         162        473   \n",
       "\n",
       "        region_code center_type  op_area   category  cuisine  \n",
       "0                56      TYPE_C      2.0  Beverages     Thai  \n",
       "1                56      TYPE_C      2.0  Beverages     Thai  \n",
       "2                56      TYPE_C      2.0  Beverages     Thai  \n",
       "3                56      TYPE_C      2.0  Beverages   Indian  \n",
       "4                56      TYPE_C      2.0  Beverages   Indian  \n",
       "...             ...         ...      ...        ...      ...  \n",
       "456543           77      TYPE_A      4.5     Desert   Indian  \n",
       "456544           77      TYPE_A      4.5     Desert   Indian  \n",
       "456545           77      TYPE_A      4.5      Salad  Italian  \n",
       "456546           77      TYPE_A      4.5      Salad  Italian  \n",
       "456547           77      TYPE_A      4.5      Salad  Italian  \n",
       "\n",
       "[456548 rows x 15 columns]"
      ]
     },
     "execution_count": 15,
     "metadata": {},
     "output_type": "execute_result"
    }
   ],
   "source": [
    "final_dataset"
   ]
  },
  {
   "cell_type": "code",
   "execution_count": 16,
   "metadata": {
    "colab": {
     "base_uri": "https://localhost:8080/"
    },
    "id": "W7ItsU6df5Mp",
    "outputId": "f76be0da-c1cb-466f-f700-5b6cfdc3e59c"
   },
   "outputs": [
    {
     "data": {
      "text/plain": [
       "(456548, 15)"
      ]
     },
     "execution_count": 16,
     "metadata": {},
     "output_type": "execute_result"
    }
   ],
   "source": [
    "final_dataset.shape"
   ]
  },
  {
   "cell_type": "code",
   "execution_count": 17,
   "metadata": {
    "colab": {
     "base_uri": "https://localhost:8080/"
    },
    "id": "bnkdYwkyf5Pd",
    "outputId": "ed97866c-0959-4a84-96da-e8aaef98d11c"
   },
   "outputs": [
    {
     "name": "stdout",
     "output_type": "stream",
     "text": [
      "<class 'pandas.core.frame.DataFrame'>\n",
      "Int64Index: 456548 entries, 0 to 456547\n",
      "Data columns (total 15 columns):\n",
      " #   Column                 Non-Null Count   Dtype  \n",
      "---  ------                 --------------   -----  \n",
      " 0   id                     456548 non-null  int64  \n",
      " 1   week                   456548 non-null  int64  \n",
      " 2   center_id              456548 non-null  int64  \n",
      " 3   meal_id                456548 non-null  int64  \n",
      " 4   checkout_price         456548 non-null  float64\n",
      " 5   base_price             456548 non-null  float64\n",
      " 6   emailer_for_promotion  456548 non-null  int64  \n",
      " 7   homepage_featured      456548 non-null  int64  \n",
      " 8   num_orders             456548 non-null  int64  \n",
      " 9   city_code              456548 non-null  int64  \n",
      " 10  region_code            456548 non-null  int64  \n",
      " 11  center_type            456548 non-null  object \n",
      " 12  op_area                456548 non-null  float64\n",
      " 13  category               456548 non-null  object \n",
      " 14  cuisine                456548 non-null  object \n",
      "dtypes: float64(3), int64(9), object(3)\n",
      "memory usage: 55.7+ MB\n"
     ]
    }
   ],
   "source": [
    "final_dataset.info()"
   ]
  },
  {
   "cell_type": "code",
   "execution_count": 18,
   "metadata": {
    "colab": {
     "base_uri": "https://localhost:8080/"
    },
    "id": "qEFeRXhIf5Rz",
    "outputId": "cf49b106-3922-4df7-ec07-bbd8a10976fc"
   },
   "outputs": [
    {
     "name": "stdout",
     "output_type": "stream",
     "text": [
      "[10, 11, 13, 14, 17, 20, 23, 24, 26, 27, 29, 30, 32, 34, 36, 39, 41, 42, 43, 50, 51, 52, 53, 55, 57, 58, 59, 61, 64, 65, 66, 67, 68, 72, 73, 74, 75, 76, 77, 80, 81, 83, 86, 88, 89, 91, 92, 93, 94, 97, 99, 101, 102, 104, 106, 108, 109, 110, 113, 124, 126, 129, 132, 137, 139, 143, 145, 146, 149, 152, 153, 157, 161, 162, 174, 177, 186]\n",
      "[1062, 1109, 1198, 1207, 1216, 1230, 1247, 1248, 1311, 1438, 1445, 1525, 1543, 1558, 1571, 1727, 1754, 1770, 1778, 1803, 1847, 1878, 1885, 1902, 1962, 1971, 1993, 2104, 2126, 2139, 2290, 2304, 2306, 2322, 2444, 2490, 2492, 2494, 2539, 2569, 2577, 2581, 2631, 2640, 2664, 2704, 2707, 2760, 2826, 2867, 2956]\n",
      "[456, 461, 473, 478, 485, 515, 517, 522, 526, 541, 553, 556, 561, 562, 576, 577, 579, 590, 593, 596, 599, 602, 604, 609, 614, 615, 620, 628, 632, 638, 647, 648, 649, 651, 654, 658, 659, 675, 676, 679, 680, 683, 685, 693, 695, 698, 699, 700, 702, 703, 713]\n",
      "[23, 34, 35, 56, 71, 77, 85, 93]\n",
      "['TYPE_C' 'TYPE_B' 'TYPE_A']\n",
      "['Beverages' 'Rice Bowl' 'Starters' 'Pasta' 'Sandwich' 'Biryani' 'Extras'\n",
      " 'Pizza' 'Seafood' 'Other Snacks' 'Desert' 'Soup' 'Salad' 'Fish']\n",
      "['Thai' 'Indian' 'Italian' 'Continental']\n"
     ]
    }
   ],
   "source": [
    "print(sorted(final_dataset['center_id'].unique()))\n",
    "print(sorted(final_dataset['meal_id'].unique()))\n",
    "print(sorted(final_dataset['city_code'].unique()))\n",
    "print(sorted(final_dataset['region_code'].unique()))\n",
    "print(final_dataset['center_type'].unique())\n",
    "print(final_dataset['category'].unique())\n",
    "print(final_dataset['cuisine'].unique())"
   ]
  },
  {
   "cell_type": "code",
   "execution_count": 19,
   "metadata": {
    "colab": {
     "base_uri": "https://localhost:8080/",
     "height": 1000
    },
    "id": "hvj_WV4Nf5Uy",
    "outputId": "0b58908b-4647-43c2-d64a-ffe1bbecf8aa"
   },
   "outputs": [
    {
     "data": {
      "image/png": "[encoded data removed]",
      "text/plain": [
       "<Figure size 1800x1800 with 2 Axes>"
      ]
     },
     "metadata": {
      "needs_background": "light"
     },
     "output_type": "display_data"
    }
   ],
   "source": [
    "corr_mat=final_dataset.corr()\n",
    "top_corr_fea=corr_mat.index\n",
    "plt.figure(figsize=(25,25))\n",
    "g=sns.heatmap(final_dataset[top_corr_fea].corr(),annot=True,cmap=\"RdYlGn\")"
   ]
  },
  {
   "cell_type": "code",
   "execution_count": 20,
   "metadata": {
    "colab": {
     "base_uri": "https://localhost:8080/"
    },
    "id": "fNg1p_5wf5XX",
    "outputId": "020cf02a-7839-4a87-f5a9-3519a3f56352"
   },
   "outputs": [
    {
     "data": {
      "text/plain": [
       "num_orders               1.000000\n",
       "homepage_featured        0.294490\n",
       "emailer_for_promotion    0.277147\n",
       "op_area                  0.176976\n",
       "city_code                0.041596\n",
       "region_code              0.029744\n",
       "meal_id                  0.010597\n",
       "id                       0.000702\n",
       "week                    -0.017210\n",
       "center_id               -0.053035\n",
       "base_price              -0.222306\n",
       "checkout_price          -0.282108\n",
       "Name: num_orders, dtype: float64"
      ]
     },
     "execution_count": 20,
     "metadata": {},
     "output_type": "execute_result"
    }
   ],
   "source": [
    "corr_mat['num_orders'].sort_values(ascending=False)"
   ]
  },
  {
   "cell_type": "code",
   "execution_count": 21,
   "metadata": {
    "id": "ljWbStzmf5Zs"
   },
   "outputs": [],
   "source": [
    "final_dataset.drop(['id','center_id','meal_id'],inplace=True,axis=1)"
   ]
  },
  {
   "cell_type": "code",
   "execution_count": 22,
   "metadata": {
    "colab": {
     "base_uri": "https://localhost:8080/"
    },
    "id": "2A5jYPpogm2G",
    "outputId": "e4f9f246-ec32-41b8-d11b-2b21ee1efdd0"
   },
   "outputs": [
    {
     "data": {
      "text/plain": [
       "Index(['week', 'checkout_price', 'base_price', 'emailer_for_promotion',\n",
       "       'homepage_featured', 'num_orders', 'city_code', 'region_code',\n",
       "       'center_type', 'op_area', 'category', 'cuisine'],\n",
       "      dtype='object')"
      ]
     },
     "execution_count": 22,
     "metadata": {},
     "output_type": "execute_result"
    }
   ],
   "source": [
    "final_dataset.columns"
   ]
  },
  {
   "cell_type": "code",
   "execution_count": 23,
   "metadata": {
    "id": "GIq9TsOVgm4m"
   },
   "outputs": [],
   "source": [
    "#label encoding for center_type,category and cuisine\n",
    "from sklearn.preprocessing import  LabelEncoder"
   ]
  },
  {
   "cell_type": "code",
   "execution_count": 24,
   "metadata": {
    "id": "WZv5WTx2gm6q"
   },
   "outputs": [],
   "source": [
    "le= LabelEncoder()\n",
    "final_dataset[\"center_type_trans\"]=le.fit_transform(final_dataset[\"center_type\"])\n",
    "final_dataset[\"category_trans\"]=le.fit_transform(final_dataset[\"category\"])\n",
    "final_dataset[\"cuisine_trans\"]=le.fit_transform(final_dataset[\"cuisine\"])"
   ]
  },
  {
   "cell_type": "code",
   "execution_count": 25,
   "metadata": {
    "colab": {
     "base_uri": "https://localhost:8080/",
     "height": 270
    },
    "id": "oWr9z3jmgm9C",
    "outputId": "e4347c0a-8ac4-40cf-e3f0-888d41b776be"
   },
   "outputs": [
    {
     "data": {
      "text/html": [
       "<div>\n",
       "<style scoped>\n",
       "    .dataframe tbody tr th:only-of-type {\n",
       "        vertical-align: middle;\n",
       "    }\n",
       "\n",
       "    .dataframe tbody tr th {\n",
       "        vertical-align: top;\n",
       "    }\n",
       "\n",
       "    .dataframe thead th {\n",
       "        text-align: right;\n",
       "    }\n",
       "</style>\n",
       "<table border=\"1\" class=\"dataframe\">\n",
       "  <thead>\n",
       "    <tr style=\"text-align: right;\">\n",
       "      <th></th>\n",
       "      <th>week</th>\n",
       "      <th>checkout_price</th>\n",
       "      <th>base_price</th>\n",
       "      <th>emailer_for_promotion</th>\n",
       "      <th>homepage_featured</th>\n",
       "      <th>num_orders</th>\n",
       "      <th>city_code</th>\n",
       "      <th>region_code</th>\n",
       "      <th>center_type</th>\n",
       "      <th>op_area</th>\n",
       "      <th>category</th>\n",
       "      <th>cuisine</th>\n",
       "      <th>center_type_trans</th>\n",
       "      <th>category_trans</th>\n",
       "      <th>cuisine_trans</th>\n",
       "    </tr>\n",
       "  </thead>\n",
       "  <tbody>\n",
       "    <tr>\n",
       "      <th>0</th>\n",
       "      <td>1</td>\n",
       "      <td>136.83</td>\n",
       "      <td>152.29</td>\n",
       "      <td>0</td>\n",
       "      <td>0</td>\n",
       "      <td>177</td>\n",
       "      <td>647</td>\n",
       "      <td>56</td>\n",
       "      <td>TYPE_C</td>\n",
       "      <td>2.0</td>\n",
       "      <td>Beverages</td>\n",
       "      <td>Thai</td>\n",
       "      <td>2</td>\n",
       "      <td>0</td>\n",
       "      <td>3</td>\n",
       "    </tr>\n",
       "    <tr>\n",
       "      <th>1</th>\n",
       "      <td>1</td>\n",
       "      <td>136.83</td>\n",
       "      <td>135.83</td>\n",
       "      <td>0</td>\n",
       "      <td>0</td>\n",
       "      <td>270</td>\n",
       "      <td>647</td>\n",
       "      <td>56</td>\n",
       "      <td>TYPE_C</td>\n",
       "      <td>2.0</td>\n",
       "      <td>Beverages</td>\n",
       "      <td>Thai</td>\n",
       "      <td>2</td>\n",
       "      <td>0</td>\n",
       "      <td>3</td>\n",
       "    </tr>\n",
       "    <tr>\n",
       "      <th>2</th>\n",
       "      <td>1</td>\n",
       "      <td>134.86</td>\n",
       "      <td>135.86</td>\n",
       "      <td>0</td>\n",
       "      <td>0</td>\n",
       "      <td>189</td>\n",
       "      <td>647</td>\n",
       "      <td>56</td>\n",
       "      <td>TYPE_C</td>\n",
       "      <td>2.0</td>\n",
       "      <td>Beverages</td>\n",
       "      <td>Thai</td>\n",
       "      <td>2</td>\n",
       "      <td>0</td>\n",
       "      <td>3</td>\n",
       "    </tr>\n",
       "    <tr>\n",
       "      <th>3</th>\n",
       "      <td>1</td>\n",
       "      <td>339.50</td>\n",
       "      <td>437.53</td>\n",
       "      <td>0</td>\n",
       "      <td>0</td>\n",
       "      <td>54</td>\n",
       "      <td>647</td>\n",
       "      <td>56</td>\n",
       "      <td>TYPE_C</td>\n",
       "      <td>2.0</td>\n",
       "      <td>Beverages</td>\n",
       "      <td>Indian</td>\n",
       "      <td>2</td>\n",
       "      <td>0</td>\n",
       "      <td>1</td>\n",
       "    </tr>\n",
       "    <tr>\n",
       "      <th>4</th>\n",
       "      <td>1</td>\n",
       "      <td>243.50</td>\n",
       "      <td>242.50</td>\n",
       "      <td>0</td>\n",
       "      <td>0</td>\n",
       "      <td>40</td>\n",
       "      <td>647</td>\n",
       "      <td>56</td>\n",
       "      <td>TYPE_C</td>\n",
       "      <td>2.0</td>\n",
       "      <td>Beverages</td>\n",
       "      <td>Indian</td>\n",
       "      <td>2</td>\n",
       "      <td>0</td>\n",
       "      <td>1</td>\n",
       "    </tr>\n",
       "  </tbody>\n",
       "</table>\n",
       "</div>"
      ],
      "text/plain": [
       "   week  checkout_price  base_price  emailer_for_promotion  homepage_featured  \\\n",
       "0     1          136.83      152.29                      0                  0   \n",
       "1     1          136.83      135.83                      0                  0   \n",
       "2     1          134.86      135.86                      0                  0   \n",
       "3     1          339.50      437.53                      0                  0   \n",
       "4     1          243.50      242.50                      0                  0   \n",
       "\n",
       "   num_orders  city_code  region_code center_type  op_area   category cuisine  \\\n",
       "0         177        647           56      TYPE_C      2.0  Beverages    Thai   \n",
       "1         270        647           56      TYPE_C      2.0  Beverages    Thai   \n",
       "2         189        647           56      TYPE_C      2.0  Beverages    Thai   \n",
       "3          54        647           56      TYPE_C      2.0  Beverages  Indian   \n",
       "4          40        647           56      TYPE_C      2.0  Beverages  Indian   \n",
       "\n",
       "   center_type_trans  category_trans  cuisine_trans  \n",
       "0                  2               0              3  \n",
       "1                  2               0              3  \n",
       "2                  2               0              3  \n",
       "3                  2               0              1  \n",
       "4                  2               0              1  "
      ]
     },
     "execution_count": 25,
     "metadata": {},
     "output_type": "execute_result"
    }
   ],
   "source": [
    "final_dataset.head()"
   ]
  },
  {
   "cell_type": "code",
   "execution_count": 26,
   "metadata": {
    "colab": {
     "base_uri": "https://localhost:8080/"
    },
    "id": "2ww-7sdSgm_T",
    "outputId": "94b25155-ff21-4a96-e99b-6d9c3e6a22b6"
   },
   "outputs": [
    {
     "name": "stdout",
     "output_type": "stream",
     "text": [
      "['TYPE_C' 'TYPE_B' 'TYPE_A']\n",
      "['Beverages' 'Rice Bowl' 'Starters' 'Pasta' 'Sandwich' 'Biryani' 'Extras'\n",
      " 'Pizza' 'Seafood' 'Other Snacks' 'Desert' 'Soup' 'Salad' 'Fish']\n",
      "['Thai' 'Indian' 'Italian' 'Continental']\n",
      "[2 1 0]\n",
      "[ 0  8 13  6 10  1  3  7 11  5  2 12  9  4]\n",
      "[3 1 2 0]\n"
     ]
    }
   ],
   "source": [
    "#checking the corresponding numerical values for center_type,category and cuisine\n",
    "print(final_dataset['center_type'].unique())\n",
    "print(final_dataset['category'].unique())\n",
    "print(final_dataset['cuisine'].unique())\n",
    "print(final_dataset['center_type_trans'].unique())\n",
    "print(final_dataset['category_trans'].unique())\n",
    "print(final_dataset['cuisine_trans'].unique())"
   ]
  },
  {
   "cell_type": "code",
   "execution_count": 27,
   "metadata": {
    "colab": {
     "base_uri": "https://localhost:8080/"
    },
    "id": "KkQpMJ7xgnBP",
    "outputId": "6e27d16c-696d-4e30-c4c3-58ddc48bb37f"
   },
   "outputs": [
    {
     "data": {
      "text/plain": [
       "Index(['week', 'checkout_price', 'base_price', 'emailer_for_promotion',\n",
       "       'homepage_featured', 'num_orders', 'city_code', 'region_code',\n",
       "       'center_type', 'op_area', 'category', 'cuisine', 'center_type_trans',\n",
       "       'category_trans', 'cuisine_trans'],\n",
       "      dtype='object')"
      ]
     },
     "execution_count": 27,
     "metadata": {},
     "output_type": "execute_result"
    }
   ],
   "source": [
    "final_dataset.columns"
   ]
  },
  {
   "cell_type": "code",
   "execution_count": 28,
   "metadata": {
    "id": "GASwzjFOheWP"
   },
   "outputs": [],
   "source": [
    "final_dataset.drop(['center_type','category','cuisine'],inplace=True,axis=1)"
   ]
  },
  {
   "cell_type": "code",
   "execution_count": 29,
   "metadata": {
    "id": "8albqHUJheY1"
   },
   "outputs": [],
   "source": [
    "#rearranging columns\n",
    "updated_dataset=final_dataset[['category_trans','cuisine_trans','week','checkout_price','base_price','emailer_for_promotion','homepage_featured','city_code','region_code','op_area','center_type_trans','num_orders']]"
   ]
  },
  {
   "cell_type": "code",
   "execution_count": 30,
   "metadata": {
    "colab": {
     "base_uri": "https://localhost:8080/"
    },
    "id": "8BdgmMEnheb9",
    "outputId": "9b3a4f2f-9807-42ee-8f2b-68d436213119"
   },
   "outputs": [
    {
     "name": "stdout",
     "output_type": "stream",
     "text": [
      "<class 'pandas.core.frame.DataFrame'>\n",
      "Int64Index: 456548 entries, 0 to 456547\n",
      "Data columns (total 12 columns):\n",
      " #   Column                 Non-Null Count   Dtype  \n",
      "---  ------                 --------------   -----  \n",
      " 0   category_trans         456548 non-null  int32  \n",
      " 1   cuisine_trans          456548 non-null  int32  \n",
      " 2   week                   456548 non-null  int64  \n",
      " 3   checkout_price         456548 non-null  float64\n",
      " 4   base_price             456548 non-null  float64\n",
      " 5   emailer_for_promotion  456548 non-null  int64  \n",
      " 6   homepage_featured      456548 non-null  int64  \n",
      " 7   city_code              456548 non-null  int64  \n",
      " 8   region_code            456548 non-null  int64  \n",
      " 9   op_area                456548 non-null  float64\n",
      " 10  center_type_trans      456548 non-null  int32  \n",
      " 11  num_orders             456548 non-null  int64  \n",
      "dtypes: float64(3), int32(3), int64(6)\n",
      "memory usage: 40.1 MB\n"
     ]
    }
   ],
   "source": [
    "updated_dataset.info()"
   ]
  },
  {
   "cell_type": "code",
   "execution_count": 32,
   "metadata": {
    "colab": {
     "base_uri": "https://localhost:8080/",
     "height": 969
    },
    "id": "GmwO6OMtheeG",
    "outputId": "1258abe4-1aef-403b-e71d-4146ff517b40"
   },
   "outputs": [
    {
     "data": {
      "text/plain": [
       "array([[<AxesSubplot:xlabel='num_orders', ylabel='num_orders'>,\n",
       "        <AxesSubplot:xlabel='homepage_featured', ylabel='num_orders'>,\n",
       "        <AxesSubplot:xlabel='checkout_price', ylabel='num_orders'>,\n",
       "        <AxesSubplot:xlabel='base_price', ylabel='num_orders'>,\n",
       "        <AxesSubplot:xlabel='emailer_for_promotion', ylabel='num_orders'>],\n",
       "       [<AxesSubplot:xlabel='num_orders', ylabel='homepage_featured'>,\n",
       "        <AxesSubplot:xlabel='homepage_featured', ylabel='homepage_featured'>,\n",
       "        <AxesSubplot:xlabel='checkout_price', ylabel='homepage_featured'>,\n",
       "        <AxesSubplot:xlabel='base_price', ylabel='homepage_featured'>,\n",
       "        <AxesSubplot:xlabel='emailer_for_promotion', ylabel='homepage_featured'>],\n",
       "       [<AxesSubplot:xlabel='num_orders', ylabel='checkout_price'>,\n",
       "        <AxesSubplot:xlabel='homepage_featured', ylabel='checkout_price'>,\n",
       "        <AxesSubplot:xlabel='checkout_price', ylabel='checkout_price'>,\n",
       "        <AxesSubplot:xlabel='base_price', ylabel='checkout_price'>,\n",
       "        <AxesSubplot:xlabel='emailer_for_promotion', ylabel='checkout_price'>],\n",
       "       [<AxesSubplot:xlabel='num_orders', ylabel='base_price'>,\n",
       "        <AxesSubplot:xlabel='homepage_featured', ylabel='base_price'>,\n",
       "        <AxesSubplot:xlabel='checkout_price', ylabel='base_price'>,\n",
       "        <AxesSubplot:xlabel='base_price', ylabel='base_price'>,\n",
       "        <AxesSubplot:xlabel='emailer_for_promotion', ylabel='base_price'>],\n",
       "       [<AxesSubplot:xlabel='num_orders', ylabel='emailer_for_promotion'>,\n",
       "        <AxesSubplot:xlabel='homepage_featured', ylabel='emailer_for_promotion'>,\n",
       "        <AxesSubplot:xlabel='checkout_price', ylabel='emailer_for_promotion'>,\n",
       "        <AxesSubplot:xlabel='base_price', ylabel='emailer_for_promotion'>,\n",
       "        <AxesSubplot:xlabel='emailer_for_promotion', ylabel='emailer_for_promotion'>]],\n",
       "      dtype=object)"
      ]
     },
     "execution_count": 32,
     "metadata": {},
     "output_type": "execute_result"
    },
    {
     "data": {
      "image/png": "[encoded data removed]",
      "text/plain": [
       "<Figure size 1440x720 with 25 Axes>"
      ]
     },
     "metadata": {
      "needs_background": "light"
     },
     "output_type": "display_data"
    }
   ],
   "source": [
    "from pandas.plotting import scatter_matrix\n",
    "strong_att=[\"num_orders\",'homepage_featured',\"checkout_price\",\"base_price\",\"emailer_for_promotion\"]\n",
    "scatter_matrix(updated_dataset[strong_att],figsize=(20,10))"
   ]
  },
  {
   "cell_type": "code",
   "execution_count": 31,
   "metadata": {
    "id": "px8wEWmdhegR"
   },
   "outputs": [],
   "source": [
    "from sklearn.model_selection import train_test_split\n",
    "X=updated_dataset.iloc[:,0:-1]\n",
    "Y=updated_dataset.iloc[:,-1]\n",
    "X_train,X_test,Y_train,Y_test=train_test_split(X,Y,test_size=0.3,random_state=42)"
   ]
  },
  {
   "cell_type": "code",
   "execution_count": 32,
   "metadata": {
    "colab": {
     "base_uri": "https://localhost:8080/"
    },
    "id": "v0fQp77CiKae",
    "outputId": "044dba99-6c8f-4b76-8470-5a5365f9e4a8"
   },
   "outputs": [
    {
     "name": "stdout",
     "output_type": "stream",
     "text": [
      "MODEL GRADIENT BOOST REGRESSION\n",
      "RMSE score for test: 160.3930195021782\n",
      "RMSE score for train: 106.2878874845307\n",
      "R2 score: 0.8332784430588183\n",
      "MAE score: 80.369454327045\n",
      "Variance score test: 0.8332784430588183\n",
      "Variance score train: 0.9284105365172142\n"
     ]
    }
   ],
   "source": [
    "from sklearn.metrics import mean_squared_error,r2_score,mean_absolute_error\n",
    "from sklearn.ensemble import GradientBoostingRegressor\n",
    "model = GradientBoostingRegressor(n_estimators = 100, max_depth = 11)\n",
    "model.fit(X_train, Y_train)\n",
    "model_pred=model.predict(X_test)\n",
    "model_predt=model.predict(X_train)\n",
    "model_rmse_score = np.sqrt(mean_squared_error(Y_test, model_pred))\n",
    "model_rmse_scoret= np.sqrt(mean_squared_error(Y_train,model_predt))\n",
    "model_rsquared_score = r2_score(Y_test, model_pred)\n",
    "model_mae=mean_absolute_error(Y_test,model_pred)\n",
    "print(\"MODEL GRADIENT BOOST REGRESSION\")\n",
    "print('RMSE score for test:', model_rmse_score)\n",
    "print('RMSE score for train:', model_rmse_scoret)\n",
    "print('R2 score:', model_rsquared_score)\n",
    "print('MAE score:', model_mae)\n",
    "print('Variance score test:', model.score(X_test, Y_test))\n",
    "print('Variance score train:', model.score(X_train, Y_train))\n"
   ]
  },
  {
   "cell_type": "code",
   "execution_count": 36,
   "metadata": {
    "colab": {
     "base_uri": "https://localhost:8080/"
    },
    "id": "HXZNXMIEifmU",
    "outputId": "c8d3247f-3328-4853-c39a-caf0df6295b2"
   },
   "outputs": [
    {
     "name": "stdout",
     "output_type": "stream",
     "text": [
      "R2 SCORES MEAN 0.784059475113712\n"
     ]
    }
   ],
   "source": [
    "#crossvalidation on model\n",
    "from sklearn.model_selection import cross_val_score\n",
    "from sklearn import model_selection\n",
    "model_r2_scores= model_selection.cross_val_score(model, X_test, Y_test, scoring=\"r2\", cv=model_selection.KFold(n_splits=10, random_state=5,shuffle=True))\n",
    "print(\"R2 SCORES MEAN\",model_r2_scores.mean())"
   ]
  },
  {
   "cell_type": "code",
   "execution_count": 37,
   "metadata": {
    "id": "-6wQoyPNifpL"
   },
   "outputs": [],
   "source": [
    "import pickle\n",
    "file=open('gradientboostmodel.pkl','wb')\n",
    "pickle.dump(model,file)"
   ]
  },
  {
   "cell_type": "code",
   "execution_count": 48,
   "metadata": {},
   "outputs": [
    {
     "data": {
      "text/plain": [
       "(136965,)"
      ]
     },
     "execution_count": 48,
     "metadata": {},
     "output_type": "execute_result"
    }
   ],
   "source": [
    "Y_pred=model.predict(X_test)\n",
    "Y_pred.shape"
   ]
  },
  {
   "cell_type": "code",
   "execution_count": 49,
   "metadata": {},
   "outputs": [
    {
     "data": {
      "text/plain": [
       "(136965,)"
      ]
     },
     "execution_count": 49,
     "metadata": {},
     "output_type": "execute_result"
    }
   ],
   "source": []
  },
  {
   "cell_type": "code",
   "execution_count": 40,
   "metadata": {},
   "outputs": [
    {
     "data": {
      "text/plain": [
       "array([  75.03439166,  216.8412507 ,  221.57009213, ..., 1128.84250369,\n",
       "        229.01163251,  298.48697442])"
      ]
     },
     "execution_count": 40,
     "metadata": {},
     "output_type": "execute_result"
    }
   ],
   "source": [
    "np.array(Y_pred)"
   ]
  },
  {
   "cell_type": "code",
   "execution_count": 41,
   "metadata": {},
   "outputs": [
    {
     "data": {
      "text/plain": [
       "array([ 28, 176, 391, ..., 972, 242, 352], dtype=int64)"
      ]
     },
     "execution_count": 41,
     "metadata": {},
     "output_type": "execute_result"
    }
   ],
   "source": [
    "np.array(Y_test)"
   ]
  },
  {
   "cell_type": "code",
   "execution_count": 43,
   "metadata": {},
   "outputs": [
    {
     "data": {
      "text/plain": [
       "0.9284105365172142"
      ]
     },
     "execution_count": 43,
     "metadata": {},
     "output_type": "execute_result"
    }
   ],
   "source": [
    "model.score(X_train,Y_train)"
   ]
  },
  {
   "cell_type": "code",
   "execution_count": 44,
   "metadata": {},
   "outputs": [
    {
     "data": {
      "text/plain": [
       "0.8332784430588183"
      ]
     },
     "execution_count": 44,
     "metadata": {},
     "output_type": "execute_result"
    }
   ],
   "source": [
    "model.score(X_test,Y_test)"
   ]
  },
  {
   "cell_type": "code",
   "execution_count": 51,
   "metadata": {},
   "outputs": [],
   "source": [
    "def plotGraph(y_test,y_pred,regressorName):\n",
    "    if max(y_test) >= max(y_pred):\n",
    "        my_range = int(max(y_test))\n",
    "    else:\n",
    "        my_range = int(max(y_pred))\n",
    "    plt.scatter(y_test, y_pred, color='red')\n",
    "    plt.plot(range(my_range), range(my_range), 'o')\n",
    "    plt.title(regressorName)\n",
    "    plt.show()\n",
    "    return"
   ]
  },
  {
   "cell_type": "code",
   "execution_count": 52,
   "metadata": {},
   "outputs": [
    {
     "data": {
      "image/png": "[encoded data removed]",
      "text/plain": [
       "<Figure size 432x288 with 1 Axes>"
      ]
     },
     "metadata": {
      "needs_background": "light"
     },
     "output_type": "display_data"
    }
   ],
   "source": [
    "plotGraph(Y_test,Y_pred,\"GradientRegressor\")"
   ]
  },
  {
   "cell_type": "code",
   "execution_count": null,
   "metadata": {},
   "outputs": [],
   "source": []
  }
 ],
 "metadata": {
  "colab": {
   "provenance": []
  },
  "kernelspec": {
   "display_name": "Python 3 (ipykernel)",
   "language": "python",
   "name": "python3"
  },
  "language_info": {
   "codemirror_mode": {
    "name": "ipython",
    "version": 3
   },
   "file_extension": ".py",
   "mimetype": "text/x-python",
   "name": "python",
   "nbconvert_exporter": "python",
   "pygments_lexer": "ipython3",
   "version": "3.9.12"
  }
 },
 "nbformat": 4,
 "nbformat_minor": 1
}
